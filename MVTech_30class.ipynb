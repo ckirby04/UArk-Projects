{
  "nbformat": 4,
  "nbformat_minor": 0,
  "metadata": {
    "colab": {
      "provenance": [],
      "gpuType": "T4",
      "authorship_tag": "ABX9TyM7fMSiuOq5RQweswx/zxX3",
      "include_colab_link": true
    },
    "kernelspec": {
      "name": "python3",
      "display_name": "Python 3"
    },
    "language_info": {
      "name": "python"
    },
    "accelerator": "GPU"
  },
  "cells": [
    {
      "cell_type": "markdown",
      "metadata": {
        "id": "view-in-github",
        "colab_type": "text"
      },
      "source": [
        "<a href=\"https://colab.research.google.com/github/ckirby04/UArk-Projects/blob/Classification/MVTech_30class.ipynb\" target=\"_parent\"><img src=\"https://colab.research.google.com/assets/colab-badge.svg\" alt=\"Open In Colab\"/></a>"
      ]
    },
    {
      "cell_type": "markdown",
      "source": [
        "## 1) Mount google drive in order to connect dataset to colab instance"
      ],
      "metadata": {
        "id": "c_OwPgAyNqfP"
      }
    },
    {
      "cell_type": "code",
      "execution_count": null,
      "metadata": {
        "colab": {
          "base_uri": "https://localhost:8080/"
        },
        "id": "4hRoczYuKkIM",
        "outputId": "8169a83d-c546-4119-9e14-0dc5a60b4182"
      },
      "outputs": [
        {
          "output_type": "stream",
          "name": "stdout",
          "text": [
            "Mounted at /content/drive\n"
          ]
        }
      ],
      "source": [
        "import pandas as pd\n",
        "\n",
        "\n",
        "from google.colab import drive\n",
        "drive.mount('/content/drive')"
      ]
    },
    {
      "cell_type": "markdown",
      "source": [
        "\n",
        "\n",
        "\n",
        "\n",
        "\n",
        "## 2) Load, Label, and Split data"
      ],
      "metadata": {
        "id": "-Bye9pM3Nykl"
      }
    },
    {
      "cell_type": "code",
      "source": [
        "import os\n",
        "import cv2\n",
        "import numpy as np\n",
        "import glob\n",
        "from sklearn.model_selection import train_test_split\n",
        "\n",
        "def load_mvtec_flat_split(base_path, target_size=(128, 128)):\n",
        "    X, y = [], []\n",
        "    label_names = []\n",
        "\n",
        "    for obj_class in sorted(os.listdir(base_path)):\n",
        "        class_path = os.path.join(base_path, obj_class)\n",
        "        if not os.path.isdir(class_path): continue\n",
        "\n",
        "        # === Load \"good\" images (flat)\n",
        "        good_path = os.path.join(class_path, 'good')\n",
        "        label_good = f\"{obj_class}_good\"\n",
        "        if label_good not in label_names:\n",
        "            label_names.append(label_good)\n",
        "        label_index_good = label_names.index(label_good)\n",
        "\n",
        "        for img_path in glob.glob(os.path.join(good_path, '*')):\n",
        "            img = cv2.imread(img_path)\n",
        "            if img is None: continue\n",
        "            img = cv2.resize(img, target_size)\n",
        "            img = img.astype(np.float32) / 255.0\n",
        "            X.append(img)\n",
        "            y.append(label_index_good)\n",
        "\n",
        "        # === Load \"anomaly\" images (recursive)\n",
        "        anomaly_root = os.path.join(class_path, 'anomaly')\n",
        "        label_anomaly = f\"{obj_class}_anomaly\"\n",
        "        if label_anomaly not in label_names:\n",
        "            label_names.append(label_anomaly)\n",
        "        label_index_anomaly = label_names.index(label_anomaly)\n",
        "\n",
        "        # Use glob to find all images in any subdirectory of \"anomaly/\"\n",
        "        for img_path in glob.glob(os.path.join(anomaly_root, '**', '*'), recursive=True):\n",
        "            if not os.path.isfile(img_path): continue\n",
        "            img = cv2.imread(img_path)\n",
        "            if img is None: continue\n",
        "            img = cv2.resize(img, target_size)\n",
        "            img = img.astype(np.float32) / 255.0\n",
        "            X.append(img)\n",
        "            y.append(label_index_anomaly)\n",
        "\n",
        "    X = np.array(X)\n",
        "    y = np.array(y)\n",
        "    label_map = {name: idx for idx, name in enumerate(label_names)}\n",
        "\n",
        "    X_train, X_test, y_train, y_test = train_test_split(\n",
        "        X, y, test_size=0.5, stratify=y, random_state=42\n",
        "    )\n",
        "\n",
        "    return X_train, y_train, X_test, y_test, label_map\n"
      ],
      "metadata": {
        "id": "tVgp9vA-KzV_"
      },
      "execution_count": null,
      "outputs": []
    },
    {
      "cell_type": "markdown",
      "source": [
        "## 3) Ensure images are properly stored with labels\n"
      ],
      "metadata": {
        "id": "yMx3yewERvEZ"
      }
    },
    {
      "cell_type": "code",
      "source": [
        "base_path = '/content/drive/MyDrive/30_class_mvtec_anomaly_dataset'\n",
        "X_train, y_train, X_test, y_test, label_map = load_mvtec_flat_split(base_path)\n",
        "\n",
        "# Check dataset\n",
        "print(\"X_train shape:\", X_train.shape)\n",
        "print(\"y_train shape:\", y_train.shape)\n",
        "print(\"X_test shape:\", X_test.shape)\n",
        "print(\"y_test shape:\", y_test.shape)\n",
        "\n",
        "print(\"Train class counts:\", np.bincount(y_train))\n",
        "print(\"Test class counts:\", np.bincount(y_test))\n",
        "\n",
        "print(\"Number of classes:\", len(label_map))\n",
        "print(\"Label map:\", label_map)"
      ],
      "metadata": {
        "colab": {
          "base_uri": "https://localhost:8080/"
        },
        "id": "1CT9qiuXRF_o",
        "outputId": "4184b859-5d42-43c9-88e6-2afaf9050871"
      },
      "execution_count": null,
      "outputs": [
        {
          "output_type": "stream",
          "name": "stdout",
          "text": [
            "X_train shape: (2447, 128, 128, 3)\n",
            "y_train shape: (2447,)\n",
            "X_test shape: (2447, 128, 128, 3)\n",
            "y_test shape: (2447,)\n",
            "Train class counts: [105  32 112  46 109  54 140  45 132  28 196  35 122  46 110  46 134  74\n",
            " 160  60 115  42  30  15 106  20 124  30 120  59]\n",
            "Test class counts: [104  31 112  46 110  55 140  44 132  29 195  35 123  46 110  47 133  74\n",
            " 160  59 115  42  30  15 107  20 123  30 120  60]\n",
            "Number of classes: 30\n",
            "Label map: {'bottle_good': 0, 'bottle_anomaly': 1, 'cable_good': 2, 'cable_anomaly': 3, 'capsule_good': 4, 'capsule_anomaly': 5, 'carpet_good': 6, 'carpet_anomaly': 7, 'grid_good': 8, 'grid_anomaly': 9, 'hazelnut_good': 10, 'hazelnut_anomaly': 11, 'leather_good': 12, 'leather_anomaly': 13, 'metal_nut_good': 14, 'metal_nut_anomaly': 15, 'pill_good': 16, 'pill_anomaly': 17, 'screw_good': 18, 'screw_anomaly': 19, 'tile_good': 20, 'tile_anomaly': 21, 'toothbrush_good': 22, 'toothbrush_anomaly': 23, 'transistor_good': 24, 'transistor_anomaly': 25, 'wood_good': 26, 'wood_anomaly': 27, 'zipper_good': 28, 'zipper_anomaly': 29}\n"
          ]
        }
      ]
    },
    {
      "cell_type": "code",
      "source": [
        "import matplotlib.pyplot as plt\n",
        "\n",
        "# Invert the label map\n",
        "inv_label_map = {v: k for k, v in label_map.items()}\n",
        "\n",
        "# Show 5 random training samples\n",
        "for i in range(3):\n",
        "    idx = np.random.randint(0, len(X_train))\n",
        "    img = X_train[idx]\n",
        "    label = y_train[idx]\n",
        "    plt.imshow(img[..., ::-1])  # BGR to RGB\n",
        "    plt.title(f\"Label: {inv_label_map[label]}\")\n",
        "    plt.axis('off')\n",
        "    plt.show()\n"
      ],
      "metadata": {
        "id": "uRx6xNwvidjB"
      },
      "execution_count": null,
      "outputs": []
    },
    {
      "cell_type": "markdown",
      "source": [
        "## 4) Build RezNet backbone CNN model"
      ],
      "metadata": {
        "id": "-f3B0utXTM7x"
      }
    },
    {
      "cell_type": "code",
      "source": [
        "from tensorflow.keras.models import Model\n",
        "from tensorflow.keras.layers import (\n",
        "    Input, Conv2D, BatchNormalization, ReLU, Add,\n",
        "    MaxPooling2D, Flatten, Dense, Dropout\n",
        ")\n",
        "\n",
        "def residual_block(x, filters, kernel_size=3):\n",
        "    shortcut = x\n",
        "\n",
        "    x = Conv2D(filters, kernel_size, padding='same')(x)\n",
        "    x = BatchNormalization()(x)\n",
        "    x = ReLU()(x)\n",
        "\n",
        "    x = Conv2D(filters, kernel_size, padding='same')(x)\n",
        "    x = BatchNormalization()(x)\n",
        "\n",
        "    if shortcut.shape[-1] != filters:\n",
        "        shortcut = Conv2D(filters, 1, padding='same')(shortcut)\n",
        "        shortcut = BatchNormalization()(shortcut)\n",
        "\n",
        "    x = Add()([shortcut, x])\n",
        "    x = ReLU()(x)\n",
        "    return x\n",
        "\n",
        "def build_resnet_like_model(input_shape=(128, 128, 3), num_classes=30):\n",
        "    inputs = Input(shape=input_shape)\n",
        "\n",
        "    x = Conv2D(32, 3, padding='same')(inputs)\n",
        "    x = BatchNormalization()(x)\n",
        "    x = ReLU()(x)\n",
        "    x = MaxPooling2D(2)(x)\n",
        "\n",
        "    x = residual_block(x, 32)\n",
        "    x = MaxPooling2D(2)(x)\n",
        "\n",
        "    x = residual_block(x, 64)\n",
        "    x = MaxPooling2D(2)(x)\n",
        "\n",
        "    x = residual_block(x, 128)\n",
        "    x = MaxPooling2D(2)(x)\n",
        "\n",
        "    x = Flatten()(x)\n",
        "    x = Dense(128, activation='relu')(x)\n",
        "    x = Dropout(0.3)(x)\n",
        "    x = Dense(num_classes, activation='softmax')(x)\n",
        "\n",
        "    model = Model(inputs, x)\n",
        "    return model"
      ],
      "metadata": {
        "id": "pQKsKPA_TI_m"
      },
      "execution_count": null,
      "outputs": []
    },
    {
      "cell_type": "markdown",
      "source": [
        "## 5) Compile"
      ],
      "metadata": {
        "id": "RzYEdkn0TeDb"
      }
    },
    {
      "cell_type": "code",
      "source": [
        "model = build_resnet_like_model(input_shape=(128, 128, 3), num_classes=30)\n",
        "\n",
        "model.compile(optimizer='adam',\n",
        "              loss='sparse_categorical_crossentropy',\n",
        "              metrics=['accuracy'])\n",
        "\n",
        "history = model.fit(X_train, y_train, validation_split=0.2, epochs=500)\n",
        "\n",
        "import os\n",
        "\n",
        "save_dir = '/content/drive/MyDrive/saved_models'\n",
        "os.makedirs(save_dir, exist_ok=True)  # creates the folder if it doesn't exist\n",
        "\n",
        "# Now save the model\n",
        "model.save(os.path.join(save_dir, 'mvtec_model.keras'))"
      ],
      "metadata": {
        "id": "CJWzdQLnTbfU"
      },
      "execution_count": null,
      "outputs": []
    },
    {
      "cell_type": "code",
      "source": [
        "print(\"Train Loss:\", history.history['loss'][-1])\n",
        "print(\"Val Loss:\", history.history['val_loss'][-1])\n",
        "print(\"Val Accuracy:\", history.history['val_accuracy'][-1])\n",
        "\n",
        "print(\"X_train:\", X_train.shape)\n",
        "print(\"y_train:\", np.bincount(y_train))\n",
        "print(\"X_test:\", X_test.shape)\n",
        "print(\"y_test:\", np.bincount(y_test))\n",
        "\n",
        "print(\"Actual labels:\", y_test[:5])"
      ],
      "metadata": {
        "id": "FJqjZyc0HB2Z"
      },
      "execution_count": null,
      "outputs": []
    },
    {
      "cell_type": "markdown",
      "source": [
        "## Re-load trained model from drive"
      ],
      "metadata": {
        "id": "HznZWxrVX7ts"
      }
    },
    {
      "cell_type": "code",
      "source": [
        "import os\n",
        "\n",
        "save_dir = '/content/drive/MyDrive/saved_models'\n",
        "os.makedirs(save_dir, exist_ok=True)  # creates the folder if it doesn't exist\n",
        "\n",
        "# Now save the model\n",
        "model.save(os.path.join(save_dir, 'mvtec_model.keras'))\n",
        "\n",
        "with open('/content/drive/MyDrive/saved_models/train_history.json', 'w') as f:\n",
        "    json.dump(history.history, f)\n"
      ],
      "metadata": {
        "id": "Na89tQp1d4WW"
      },
      "execution_count": null,
      "outputs": []
    },
    {
      "cell_type": "code",
      "source": [
        "from tensorflow.keras.models import load_model\n",
        "import json\n",
        "\n",
        "model = load_model('/content/drive/MyDrive/saved_models/mvtec_model.keras')\n",
        "\n",
        "#load training history\n",
        "with open('/content/drive/MyDrive/saved_models/train_history.json', 'r') as f:\n",
        "    history_data = json.load(f)\n"
      ],
      "metadata": {
        "id": "U-c-uQkCX65Q"
      },
      "execution_count": null,
      "outputs": []
    },
    {
      "cell_type": "markdown",
      "source": [
        "## Confusion Matrix\n"
      ],
      "metadata": {
        "id": "IHRRYVLYATPs"
      }
    },
    {
      "cell_type": "code",
      "source": [
        "y_pred_probs = model.predict(X_test)  # shape: (n_samples, num_classes)\n",
        "y_pred = np.argmax(y_pred_probs, axis=1)  # shape: (n_samples,)\n",
        "\n",
        "from sklearn.metrics import confusion_matrix, ConfusionMatrixDisplay\n",
        "import matplotlib.pyplot as plt\n",
        "\n",
        "cm = confusion_matrix(y_test, y_pred)\n",
        "disp = ConfusionMatrixDisplay(confusion_matrix=cm, display_labels=[k for k, v in sorted(label_map.items(), key=lambda x: x[1])])\n",
        "fig, ax = plt.subplots(figsize=(12, 12))\n",
        "disp.plot(ax=ax, cmap='Blues', xticks_rotation=90)\n",
        "plt.title(\"Confusion Matrix\")\n",
        "plt.show()\n",
        "\n"
      ],
      "metadata": {
        "colab": {
          "base_uri": "https://localhost:8080/",
          "height": 211
        },
        "id": "6wJjeZrqAWGM",
        "outputId": "a9375295-f76f-48f0-fa2d-a2feb0f89321"
      },
      "execution_count": null,
      "outputs": [
        {
          "output_type": "error",
          "ename": "NameError",
          "evalue": "name 'X_test' is not defined",
          "traceback": [
            "\u001b[0;31m---------------------------------------------------------------------------\u001b[0m",
            "\u001b[0;31mNameError\u001b[0m                                 Traceback (most recent call last)",
            "\u001b[0;32m<ipython-input-3-2f388e185829>\u001b[0m in \u001b[0;36m<cell line: 0>\u001b[0;34m()\u001b[0m\n\u001b[0;32m----> 1\u001b[0;31m \u001b[0my_pred_probs\u001b[0m \u001b[0;34m=\u001b[0m \u001b[0mmodel\u001b[0m\u001b[0;34m.\u001b[0m\u001b[0mpredict\u001b[0m\u001b[0;34m(\u001b[0m\u001b[0mX_test\u001b[0m\u001b[0;34m)\u001b[0m  \u001b[0;31m# shape: (n_samples, num_classes)\u001b[0m\u001b[0;34m\u001b[0m\u001b[0;34m\u001b[0m\u001b[0m\n\u001b[0m\u001b[1;32m      2\u001b[0m \u001b[0my_pred\u001b[0m \u001b[0;34m=\u001b[0m \u001b[0mnp\u001b[0m\u001b[0;34m.\u001b[0m\u001b[0margmax\u001b[0m\u001b[0;34m(\u001b[0m\u001b[0my_pred_probs\u001b[0m\u001b[0;34m,\u001b[0m \u001b[0maxis\u001b[0m\u001b[0;34m=\u001b[0m\u001b[0;36m1\u001b[0m\u001b[0;34m)\u001b[0m  \u001b[0;31m# shape: (n_samples,)\u001b[0m\u001b[0;34m\u001b[0m\u001b[0;34m\u001b[0m\u001b[0m\n\u001b[1;32m      3\u001b[0m \u001b[0;34m\u001b[0m\u001b[0m\n\u001b[1;32m      4\u001b[0m \u001b[0;32mfrom\u001b[0m \u001b[0msklearn\u001b[0m\u001b[0;34m.\u001b[0m\u001b[0mmetrics\u001b[0m \u001b[0;32mimport\u001b[0m \u001b[0mconfusion_matrix\u001b[0m\u001b[0;34m,\u001b[0m \u001b[0mConfusionMatrixDisplay\u001b[0m\u001b[0;34m\u001b[0m\u001b[0;34m\u001b[0m\u001b[0m\n\u001b[1;32m      5\u001b[0m \u001b[0;32mimport\u001b[0m \u001b[0mmatplotlib\u001b[0m\u001b[0;34m.\u001b[0m\u001b[0mpyplot\u001b[0m \u001b[0;32mas\u001b[0m \u001b[0mplt\u001b[0m\u001b[0;34m\u001b[0m\u001b[0;34m\u001b[0m\u001b[0m\n",
            "\u001b[0;31mNameError\u001b[0m: name 'X_test' is not defined"
          ]
        }
      ]
    }
  ]
}